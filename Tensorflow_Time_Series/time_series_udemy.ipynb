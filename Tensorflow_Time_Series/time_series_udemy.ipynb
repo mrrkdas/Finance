{
 "cells": [
  {
   "cell_type": "code",
   "execution_count": null,
   "metadata": {},
   "outputs": [],
   "source": [
    "# We are going to get our data \n",
    "# We can also use yahoo finance to pull data \n",
    "# Bitcoin data"
   ]
  }
 ],
 "metadata": {
  "language_info": {
   "name": "python"
  },
  "orig_nbformat": 4
 },
 "nbformat": 4,
 "nbformat_minor": 2
}
