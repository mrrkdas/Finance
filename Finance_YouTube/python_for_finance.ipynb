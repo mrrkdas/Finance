{
 "cells": [
  {
   "cell_type": "markdown",
   "metadata": {},
   "source": [
    "Youtube Video Link : https://www.youtube.com/watch?v=nNkKTJTu-mU"
   ]
  },
  {
   "cell_type": "markdown",
   "metadata": {},
   "source": [
    "# Imports"
   ]
  },
  {
   "cell_type": "code",
   "execution_count": 2,
   "metadata": {},
   "outputs": [
    {
     "name": "stdout",
     "output_type": "stream",
     "text": [
      "Collecting pandas_datareader\n",
      "  Downloading pandas_datareader-0.10.0-py3-none-any.whl (109 kB)\n",
      "\u001b[K     |████████████████████████████████| 109 kB 2.8 MB/s eta 0:00:01\n",
      "\u001b[?25hRequirement already satisfied: requests>=2.19.0 in /Users/rish/opt/anaconda3/lib/python3.9/site-packages (from pandas_datareader) (2.27.1)\n",
      "Requirement already satisfied: lxml in /Users/rish/opt/anaconda3/lib/python3.9/site-packages (from pandas_datareader) (4.8.0)\n",
      "Requirement already satisfied: pandas>=0.23 in /Users/rish/opt/anaconda3/lib/python3.9/site-packages (from pandas_datareader) (1.4.2)\n",
      "Requirement already satisfied: python-dateutil>=2.8.1 in /Users/rish/opt/anaconda3/lib/python3.9/site-packages (from pandas>=0.23->pandas_datareader) (2.8.2)\n",
      "Requirement already satisfied: pytz>=2020.1 in /Users/rish/opt/anaconda3/lib/python3.9/site-packages (from pandas>=0.23->pandas_datareader) (2021.3)\n",
      "Requirement already satisfied: numpy>=1.18.5 in /Users/rish/opt/anaconda3/lib/python3.9/site-packages (from pandas>=0.23->pandas_datareader) (1.21.5)\n",
      "Requirement already satisfied: six>=1.5 in /Users/rish/opt/anaconda3/lib/python3.9/site-packages (from python-dateutil>=2.8.1->pandas>=0.23->pandas_datareader) (1.16.0)\n",
      "Requirement already satisfied: certifi>=2017.4.17 in /Users/rish/opt/anaconda3/lib/python3.9/site-packages (from requests>=2.19.0->pandas_datareader) (2021.10.8)\n",
      "Requirement already satisfied: idna<4,>=2.5 in /Users/rish/opt/anaconda3/lib/python3.9/site-packages (from requests>=2.19.0->pandas_datareader) (3.3)\n",
      "Requirement already satisfied: urllib3<1.27,>=1.21.1 in /Users/rish/opt/anaconda3/lib/python3.9/site-packages (from requests>=2.19.0->pandas_datareader) (1.26.9)\n",
      "Requirement already satisfied: charset-normalizer~=2.0.0 in /Users/rish/opt/anaconda3/lib/python3.9/site-packages (from requests>=2.19.0->pandas_datareader) (2.0.4)\n",
      "Installing collected packages: pandas-datareader\n",
      "Successfully installed pandas-datareader-0.10.0\n"
     ]
    }
   ],
   "source": [
    "!pip install pandas_datareader"
   ]
  },
  {
   "cell_type": "code",
   "execution_count": 4,
   "metadata": {},
   "outputs": [
    {
     "name": "stdout",
     "output_type": "stream",
     "text": [
      "Collecting mplfinance\n",
      "  Downloading mplfinance-0.12.9b7-py3-none-any.whl (73 kB)\n",
      "\u001b[K     |████████████████████████████████| 73 kB 922 kB/s eta 0:00:01\n",
      "\u001b[?25hRequirement already satisfied: pandas in /Users/rish/opt/anaconda3/lib/python3.9/site-packages (from mplfinance) (1.4.2)\n",
      "Requirement already satisfied: matplotlib in /Users/rish/opt/anaconda3/lib/python3.9/site-packages (from mplfinance) (3.5.1)\n",
      "Requirement already satisfied: fonttools>=4.22.0 in /Users/rish/opt/anaconda3/lib/python3.9/site-packages (from matplotlib->mplfinance) (4.25.0)\n",
      "Requirement already satisfied: python-dateutil>=2.7 in /Users/rish/opt/anaconda3/lib/python3.9/site-packages (from matplotlib->mplfinance) (2.8.2)\n",
      "Requirement already satisfied: cycler>=0.10 in /Users/rish/opt/anaconda3/lib/python3.9/site-packages (from matplotlib->mplfinance) (0.11.0)\n",
      "Requirement already satisfied: packaging>=20.0 in /Users/rish/opt/anaconda3/lib/python3.9/site-packages (from matplotlib->mplfinance) (21.3)\n",
      "Requirement already satisfied: pyparsing>=2.2.1 in /Users/rish/opt/anaconda3/lib/python3.9/site-packages (from matplotlib->mplfinance) (3.0.4)\n",
      "Requirement already satisfied: kiwisolver>=1.0.1 in /Users/rish/opt/anaconda3/lib/python3.9/site-packages (from matplotlib->mplfinance) (1.3.2)\n",
      "Requirement already satisfied: pillow>=6.2.0 in /Users/rish/opt/anaconda3/lib/python3.9/site-packages (from matplotlib->mplfinance) (9.0.1)\n",
      "Requirement already satisfied: numpy>=1.17 in /Users/rish/opt/anaconda3/lib/python3.9/site-packages (from matplotlib->mplfinance) (1.21.5)\n",
      "Requirement already satisfied: six>=1.5 in /Users/rish/opt/anaconda3/lib/python3.9/site-packages (from python-dateutil>=2.7->matplotlib->mplfinance) (1.16.0)\n",
      "Requirement already satisfied: pytz>=2020.1 in /Users/rish/opt/anaconda3/lib/python3.9/site-packages (from pandas->mplfinance) (2021.3)\n",
      "Installing collected packages: mplfinance\n",
      "Successfully installed mplfinance-0.12.9b7\n"
     ]
    }
   ],
   "source": [
    "!pip install mplfinance"
   ]
  },
  {
   "cell_type": "code",
   "execution_count": 5,
   "metadata": {},
   "outputs": [],
   "source": [
    "import numpy as np\n",
    "import pandas as pd\n",
    "from pandas_datareader import data as web\n",
    "import matplotlib.dates as mdates\n",
    "import datetime as dt\n",
    "import mplfinance as mpf"
   ]
  },
  {
   "cell_type": "markdown",
   "metadata": {},
   "source": [
    "# Function that Saves Stock Data to CSV"
   ]
  },
  {
   "cell_type": "code",
   "execution_count": 6,
   "metadata": {},
   "outputs": [],
   "source": [
    "def save_to_csv(ticker, syear, smonth, sday, eyear, emonth, eday):\n",
    "    start = dt.datetime(syear, smonth, sday)\n",
    "    end = dt.datetime(eyear, emonth, eday)\n",
    "\n",
    "    df = web.DataReader(ticker, 'yahoo', start, end) #Check if this line works, might need update\n",
    "    df.to_csv(\"/Users/rish/Finance/Finance_YouTube/\" + ticker + \".csv\") # check if this works, do you need to add file path?\n",
    "\n",
    "    return df"
   ]
  },
  {
   "cell_type": "code",
   "execution_count": 8,
   "metadata": {},
   "outputs": [
    {
     "ename": "TypeError",
     "evalue": "string indices must be integers",
     "output_type": "error",
     "traceback": [
      "\u001b[0;31m---------------------------------------------------------------------------\u001b[0m",
      "\u001b[0;31mTypeError\u001b[0m                                 Traceback (most recent call last)",
      "\u001b[1;32m/Users/rish/Finance/Finance_YouTube/python_for_finance.ipynb Cell 8'\u001b[0m in \u001b[0;36m<cell line: 3>\u001b[0;34m()\u001b[0m\n\u001b[1;32m      <a href='vscode-notebook-cell:/Users/rish/Finance/Finance_YouTube/python_for_finance.ipynb#ch0000010?line=0'>1</a>\u001b[0m \u001b[39m# Testing function\u001b[39;00m\n\u001b[0;32m----> <a href='vscode-notebook-cell:/Users/rish/Finance/Finance_YouTube/python_for_finance.ipynb#ch0000010?line=2'>3</a>\u001b[0m save_to_csv(\u001b[39m'\u001b[39;49m\u001b[39mGOOGL\u001b[39;49m\u001b[39m'\u001b[39;49m, \u001b[39m2020\u001b[39;49m, \u001b[39m1\u001b[39;49m, \u001b[39m1\u001b[39;49m, \u001b[39m2021\u001b[39;49m, \u001b[39m1\u001b[39;49m, \u001b[39m1\u001b[39;49m)\n",
      "\u001b[1;32m/Users/rish/Finance/Finance_YouTube/python_for_finance.ipynb Cell 7'\u001b[0m in \u001b[0;36msave_to_csv\u001b[0;34m(ticker, syear, smonth, sday, eyear, emonth, eday)\u001b[0m\n\u001b[1;32m      <a href='vscode-notebook-cell:/Users/rish/Finance/Finance_YouTube/python_for_finance.ipynb#ch0000009?line=1'>2</a>\u001b[0m start \u001b[39m=\u001b[39m dt\u001b[39m.\u001b[39mdatetime(syear, smonth, sday)\n\u001b[1;32m      <a href='vscode-notebook-cell:/Users/rish/Finance/Finance_YouTube/python_for_finance.ipynb#ch0000009?line=2'>3</a>\u001b[0m end \u001b[39m=\u001b[39m dt\u001b[39m.\u001b[39mdatetime(eyear, emonth, eday)\n\u001b[0;32m----> <a href='vscode-notebook-cell:/Users/rish/Finance/Finance_YouTube/python_for_finance.ipynb#ch0000009?line=4'>5</a>\u001b[0m df \u001b[39m=\u001b[39m web\u001b[39m.\u001b[39;49mDataReader(ticker, \u001b[39m'\u001b[39;49m\u001b[39myahoo\u001b[39;49m\u001b[39m'\u001b[39;49m, start, end) \u001b[39m#Check if this line works, might need update\u001b[39;00m\n\u001b[1;32m      <a href='vscode-notebook-cell:/Users/rish/Finance/Finance_YouTube/python_for_finance.ipynb#ch0000009?line=5'>6</a>\u001b[0m df\u001b[39m.\u001b[39mto_csv(\u001b[39m\"\u001b[39m\u001b[39m/Users/rish/Finance/Finance_YouTube/\u001b[39m\u001b[39m\"\u001b[39m \u001b[39m+\u001b[39m ticker \u001b[39m+\u001b[39m \u001b[39m\"\u001b[39m\u001b[39m.csv\u001b[39m\u001b[39m\"\u001b[39m) \u001b[39m# check if this works, do you need to add file path?\u001b[39;00m\n\u001b[1;32m      <a href='vscode-notebook-cell:/Users/rish/Finance/Finance_YouTube/python_for_finance.ipynb#ch0000009?line=7'>8</a>\u001b[0m \u001b[39mreturn\u001b[39;00m df\n",
      "File \u001b[0;32m~/opt/anaconda3/lib/python3.9/site-packages/pandas/util/_decorators.py:207\u001b[0m, in \u001b[0;36mdeprecate_kwarg.<locals>._deprecate_kwarg.<locals>.wrapper\u001b[0;34m(*args, **kwargs)\u001b[0m\n\u001b[1;32m    205\u001b[0m     \u001b[39melse\u001b[39;00m:\n\u001b[1;32m    206\u001b[0m         kwargs[new_arg_name] \u001b[39m=\u001b[39m new_arg_value\n\u001b[0;32m--> 207\u001b[0m \u001b[39mreturn\u001b[39;00m func(\u001b[39m*\u001b[39;49margs, \u001b[39m*\u001b[39;49m\u001b[39m*\u001b[39;49mkwargs)\n",
      "File \u001b[0;32m~/opt/anaconda3/lib/python3.9/site-packages/pandas_datareader/data.py:370\u001b[0m, in \u001b[0;36mDataReader\u001b[0;34m(name, data_source, start, end, retry_count, pause, session, api_key)\u001b[0m\n\u001b[1;32m    367\u001b[0m     \u001b[39mraise\u001b[39;00m \u001b[39mNotImplementedError\u001b[39;00m(msg)\n\u001b[1;32m    369\u001b[0m \u001b[39mif\u001b[39;00m data_source \u001b[39m==\u001b[39m \u001b[39m\"\u001b[39m\u001b[39myahoo\u001b[39m\u001b[39m\"\u001b[39m:\n\u001b[0;32m--> 370\u001b[0m     \u001b[39mreturn\u001b[39;00m YahooDailyReader(\n\u001b[1;32m    371\u001b[0m         symbols\u001b[39m=\u001b[39;49mname,\n\u001b[1;32m    372\u001b[0m         start\u001b[39m=\u001b[39;49mstart,\n\u001b[1;32m    373\u001b[0m         end\u001b[39m=\u001b[39;49mend,\n\u001b[1;32m    374\u001b[0m         adjust_price\u001b[39m=\u001b[39;49m\u001b[39mFalse\u001b[39;49;00m,\n\u001b[1;32m    375\u001b[0m         chunksize\u001b[39m=\u001b[39;49m\u001b[39m25\u001b[39;49m,\n\u001b[1;32m    376\u001b[0m         retry_count\u001b[39m=\u001b[39;49mretry_count,\n\u001b[1;32m    377\u001b[0m         pause\u001b[39m=\u001b[39;49mpause,\n\u001b[1;32m    378\u001b[0m         session\u001b[39m=\u001b[39;49msession,\n\u001b[1;32m    379\u001b[0m     )\u001b[39m.\u001b[39;49mread()\n\u001b[1;32m    381\u001b[0m \u001b[39melif\u001b[39;00m data_source \u001b[39m==\u001b[39m \u001b[39m\"\u001b[39m\u001b[39miex\u001b[39m\u001b[39m\"\u001b[39m:\n\u001b[1;32m    382\u001b[0m     \u001b[39mreturn\u001b[39;00m IEXDailyReader(\n\u001b[1;32m    383\u001b[0m         symbols\u001b[39m=\u001b[39mname,\n\u001b[1;32m    384\u001b[0m         start\u001b[39m=\u001b[39mstart,\n\u001b[0;32m   (...)\u001b[0m\n\u001b[1;32m    390\u001b[0m         session\u001b[39m=\u001b[39msession,\n\u001b[1;32m    391\u001b[0m     )\u001b[39m.\u001b[39mread()\n",
      "File \u001b[0;32m~/opt/anaconda3/lib/python3.9/site-packages/pandas_datareader/base.py:253\u001b[0m, in \u001b[0;36m_DailyBaseReader.read\u001b[0;34m(self)\u001b[0m\n\u001b[1;32m    251\u001b[0m \u001b[39m# If a single symbol, (e.g., 'GOOG')\u001b[39;00m\n\u001b[1;32m    252\u001b[0m \u001b[39mif\u001b[39;00m \u001b[39misinstance\u001b[39m(\u001b[39mself\u001b[39m\u001b[39m.\u001b[39msymbols, (string_types, \u001b[39mint\u001b[39m)):\n\u001b[0;32m--> 253\u001b[0m     df \u001b[39m=\u001b[39m \u001b[39mself\u001b[39;49m\u001b[39m.\u001b[39;49m_read_one_data(\u001b[39mself\u001b[39;49m\u001b[39m.\u001b[39;49murl, params\u001b[39m=\u001b[39;49m\u001b[39mself\u001b[39;49m\u001b[39m.\u001b[39;49m_get_params(\u001b[39mself\u001b[39;49m\u001b[39m.\u001b[39;49msymbols))\n\u001b[1;32m    254\u001b[0m \u001b[39m# Or multiple symbols, (e.g., ['GOOG', 'AAPL', 'MSFT'])\u001b[39;00m\n\u001b[1;32m    255\u001b[0m \u001b[39melif\u001b[39;00m \u001b[39misinstance\u001b[39m(\u001b[39mself\u001b[39m\u001b[39m.\u001b[39msymbols, DataFrame):\n",
      "File \u001b[0;32m~/opt/anaconda3/lib/python3.9/site-packages/pandas_datareader/yahoo/daily.py:153\u001b[0m, in \u001b[0;36mYahooDailyReader._read_one_data\u001b[0;34m(self, url, params)\u001b[0m\n\u001b[1;32m    151\u001b[0m \u001b[39mtry\u001b[39;00m:\n\u001b[1;32m    152\u001b[0m     j \u001b[39m=\u001b[39m json\u001b[39m.\u001b[39mloads(re\u001b[39m.\u001b[39msearch(ptrn, resp\u001b[39m.\u001b[39mtext, re\u001b[39m.\u001b[39mDOTALL)\u001b[39m.\u001b[39mgroup(\u001b[39m1\u001b[39m))\n\u001b[0;32m--> 153\u001b[0m     data \u001b[39m=\u001b[39m j[\u001b[39m\"\u001b[39;49m\u001b[39mcontext\u001b[39;49m\u001b[39m\"\u001b[39;49m][\u001b[39m\"\u001b[39;49m\u001b[39mdispatcher\u001b[39;49m\u001b[39m\"\u001b[39;49m][\u001b[39m\"\u001b[39;49m\u001b[39mstores\u001b[39;49m\u001b[39m\"\u001b[39;49m][\u001b[39m\"\u001b[39;49m\u001b[39mHistoricalPriceStore\u001b[39;49m\u001b[39m\"\u001b[39;49m]\n\u001b[1;32m    154\u001b[0m \u001b[39mexcept\u001b[39;00m \u001b[39mKeyError\u001b[39;00m:\n\u001b[1;32m    155\u001b[0m     msg \u001b[39m=\u001b[39m \u001b[39m\"\u001b[39m\u001b[39mNo data fetched for symbol \u001b[39m\u001b[39m{}\u001b[39;00m\u001b[39m using \u001b[39m\u001b[39m{}\u001b[39;00m\u001b[39m\"\u001b[39m\n",
      "\u001b[0;31mTypeError\u001b[0m: string indices must be integers"
     ]
    }
   ],
   "source": [
    "# Testing function\n",
    "\n",
    "save_to_csv('GOOGL', 2020, 1, 1, 2021, 1, 1)"
   ]
  },
  {
   "cell_type": "code",
   "execution_count": 13,
   "metadata": {},
   "outputs": [
    {
     "ename": "TypeError",
     "evalue": "string indices must be integers",
     "output_type": "error",
     "traceback": [
      "\u001b[0;31m---------------------------------------------------------------------------\u001b[0m",
      "\u001b[0;31mTypeError\u001b[0m                                 Traceback (most recent call last)",
      "\u001b[1;32m/Users/rish/Finance/Finance_YouTube/python_for_finance.ipynb Cell 9'\u001b[0m in \u001b[0;36m<cell line: 1>\u001b[0;34m()\u001b[0m\n\u001b[0;32m----> <a href='vscode-notebook-cell:/Users/rish/Finance/Finance_YouTube/python_for_finance.ipynb#ch0000011?line=0'>1</a>\u001b[0m df \u001b[39m=\u001b[39m web\u001b[39m.\u001b[39;49mDataReader(\u001b[39m2\u001b[39;49m, \u001b[39m'\u001b[39;49m\u001b[39myahoo\u001b[39;49m\u001b[39m'\u001b[39;49m, start\u001b[39m=\u001b[39;49m\u001b[39m'\u001b[39;49m\u001b[39m2019-09-10\u001b[39;49m\u001b[39m'\u001b[39;49m, end\u001b[39m=\u001b[39;49m\u001b[39m'\u001b[39;49m\u001b[39m2019-10-09\u001b[39;49m\u001b[39m'\u001b[39;49m)\n",
      "File \u001b[0;32m~/opt/anaconda3/lib/python3.9/site-packages/pandas/util/_decorators.py:207\u001b[0m, in \u001b[0;36mdeprecate_kwarg.<locals>._deprecate_kwarg.<locals>.wrapper\u001b[0;34m(*args, **kwargs)\u001b[0m\n\u001b[1;32m    205\u001b[0m     \u001b[39melse\u001b[39;00m:\n\u001b[1;32m    206\u001b[0m         kwargs[new_arg_name] \u001b[39m=\u001b[39m new_arg_value\n\u001b[0;32m--> 207\u001b[0m \u001b[39mreturn\u001b[39;00m func(\u001b[39m*\u001b[39;49margs, \u001b[39m*\u001b[39;49m\u001b[39m*\u001b[39;49mkwargs)\n",
      "File \u001b[0;32m~/opt/anaconda3/lib/python3.9/site-packages/pandas_datareader/data.py:370\u001b[0m, in \u001b[0;36mDataReader\u001b[0;34m(name, data_source, start, end, retry_count, pause, session, api_key)\u001b[0m\n\u001b[1;32m    367\u001b[0m     \u001b[39mraise\u001b[39;00m \u001b[39mNotImplementedError\u001b[39;00m(msg)\n\u001b[1;32m    369\u001b[0m \u001b[39mif\u001b[39;00m data_source \u001b[39m==\u001b[39m \u001b[39m\"\u001b[39m\u001b[39myahoo\u001b[39m\u001b[39m\"\u001b[39m:\n\u001b[0;32m--> 370\u001b[0m     \u001b[39mreturn\u001b[39;00m YahooDailyReader(\n\u001b[1;32m    371\u001b[0m         symbols\u001b[39m=\u001b[39;49mname,\n\u001b[1;32m    372\u001b[0m         start\u001b[39m=\u001b[39;49mstart,\n\u001b[1;32m    373\u001b[0m         end\u001b[39m=\u001b[39;49mend,\n\u001b[1;32m    374\u001b[0m         adjust_price\u001b[39m=\u001b[39;49m\u001b[39mFalse\u001b[39;49;00m,\n\u001b[1;32m    375\u001b[0m         chunksize\u001b[39m=\u001b[39;49m\u001b[39m25\u001b[39;49m,\n\u001b[1;32m    376\u001b[0m         retry_count\u001b[39m=\u001b[39;49mretry_count,\n\u001b[1;32m    377\u001b[0m         pause\u001b[39m=\u001b[39;49mpause,\n\u001b[1;32m    378\u001b[0m         session\u001b[39m=\u001b[39;49msession,\n\u001b[1;32m    379\u001b[0m     )\u001b[39m.\u001b[39;49mread()\n\u001b[1;32m    381\u001b[0m \u001b[39melif\u001b[39;00m data_source \u001b[39m==\u001b[39m \u001b[39m\"\u001b[39m\u001b[39miex\u001b[39m\u001b[39m\"\u001b[39m:\n\u001b[1;32m    382\u001b[0m     \u001b[39mreturn\u001b[39;00m IEXDailyReader(\n\u001b[1;32m    383\u001b[0m         symbols\u001b[39m=\u001b[39mname,\n\u001b[1;32m    384\u001b[0m         start\u001b[39m=\u001b[39mstart,\n\u001b[0;32m   (...)\u001b[0m\n\u001b[1;32m    390\u001b[0m         session\u001b[39m=\u001b[39msession,\n\u001b[1;32m    391\u001b[0m     )\u001b[39m.\u001b[39mread()\n",
      "File \u001b[0;32m~/opt/anaconda3/lib/python3.9/site-packages/pandas_datareader/base.py:253\u001b[0m, in \u001b[0;36m_DailyBaseReader.read\u001b[0;34m(self)\u001b[0m\n\u001b[1;32m    251\u001b[0m \u001b[39m# If a single symbol, (e.g., 'GOOG')\u001b[39;00m\n\u001b[1;32m    252\u001b[0m \u001b[39mif\u001b[39;00m \u001b[39misinstance\u001b[39m(\u001b[39mself\u001b[39m\u001b[39m.\u001b[39msymbols, (string_types, \u001b[39mint\u001b[39m)):\n\u001b[0;32m--> 253\u001b[0m     df \u001b[39m=\u001b[39m \u001b[39mself\u001b[39;49m\u001b[39m.\u001b[39;49m_read_one_data(\u001b[39mself\u001b[39;49m\u001b[39m.\u001b[39;49murl, params\u001b[39m=\u001b[39;49m\u001b[39mself\u001b[39;49m\u001b[39m.\u001b[39;49m_get_params(\u001b[39mself\u001b[39;49m\u001b[39m.\u001b[39;49msymbols))\n\u001b[1;32m    254\u001b[0m \u001b[39m# Or multiple symbols, (e.g., ['GOOG', 'AAPL', 'MSFT'])\u001b[39;00m\n\u001b[1;32m    255\u001b[0m \u001b[39melif\u001b[39;00m \u001b[39misinstance\u001b[39m(\u001b[39mself\u001b[39m\u001b[39m.\u001b[39msymbols, DataFrame):\n",
      "File \u001b[0;32m~/opt/anaconda3/lib/python3.9/site-packages/pandas_datareader/yahoo/daily.py:153\u001b[0m, in \u001b[0;36mYahooDailyReader._read_one_data\u001b[0;34m(self, url, params)\u001b[0m\n\u001b[1;32m    151\u001b[0m \u001b[39mtry\u001b[39;00m:\n\u001b[1;32m    152\u001b[0m     j \u001b[39m=\u001b[39m json\u001b[39m.\u001b[39mloads(re\u001b[39m.\u001b[39msearch(ptrn, resp\u001b[39m.\u001b[39mtext, re\u001b[39m.\u001b[39mDOTALL)\u001b[39m.\u001b[39mgroup(\u001b[39m1\u001b[39m))\n\u001b[0;32m--> 153\u001b[0m     data \u001b[39m=\u001b[39m j[\u001b[39m\"\u001b[39;49m\u001b[39mcontext\u001b[39;49m\u001b[39m\"\u001b[39;49m][\u001b[39m\"\u001b[39;49m\u001b[39mdispatcher\u001b[39;49m\u001b[39m\"\u001b[39;49m][\u001b[39m\"\u001b[39;49m\u001b[39mstores\u001b[39;49m\u001b[39m\"\u001b[39;49m][\u001b[39m\"\u001b[39;49m\u001b[39mHistoricalPriceStore\u001b[39;49m\u001b[39m\"\u001b[39;49m]\n\u001b[1;32m    154\u001b[0m \u001b[39mexcept\u001b[39;00m \u001b[39mKeyError\u001b[39;00m:\n\u001b[1;32m    155\u001b[0m     msg \u001b[39m=\u001b[39m \u001b[39m\"\u001b[39m\u001b[39mNo data fetched for symbol \u001b[39m\u001b[39m{}\u001b[39;00m\u001b[39m using \u001b[39m\u001b[39m{}\u001b[39;00m\u001b[39m\"\u001b[39m\n",
      "\u001b[0;31mTypeError\u001b[0m: string indices must be integers"
     ]
    }
   ],
   "source": [
    "df = web.DataReader(2, 'yahoo', start='2019-09-10', end='2019-10-09')"
   ]
  }
 ],
 "metadata": {
  "kernelspec": {
   "display_name": "Python 3.9.12 ('base')",
   "language": "python",
   "name": "python3"
  },
  "language_info": {
   "codemirror_mode": {
    "name": "ipython",
    "version": 3
   },
   "file_extension": ".py",
   "mimetype": "text/x-python",
   "name": "python",
   "nbconvert_exporter": "python",
   "pygments_lexer": "ipython3",
   "version": "3.9.12"
  },
  "orig_nbformat": 4,
  "vscode": {
   "interpreter": {
    "hash": "31b54185ef9236271117b65ccd40447ed8c429f8dbf9fa6a895ee5e4cb482fd5"
   }
  }
 },
 "nbformat": 4,
 "nbformat_minor": 2
}
