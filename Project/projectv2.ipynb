{
 "cells": [
  {
   "cell_type": "code",
   "execution_count": 54,
   "id": "1d00d6ff-ec4a-4d7e-bfc3-0723caf8f8fe",
   "metadata": {
    "tags": []
   },
   "outputs": [],
   "source": [
    "import numpy as np\n",
    "import pandas as pd\n",
    "from pandas_datareader import data as web\n",
    "import matplotlib.dates as mdates\n",
    "import datetime as dt\n",
    "import mplfinance as mpf\n",
    "import yfinance as yfin"
   ]
  },
  {
   "cell_type": "code",
   "execution_count": 55,
   "id": "da52a352-d57b-4f63-809e-95cbf37834b3",
   "metadata": {
    "tags": []
   },
   "outputs": [],
   "source": [
    "def save_to_csv(ticker, syear, smonth, sday, eyear, emonth, eday):\n",
    "    start = dt.datetime(syear, smonth, sday)\n",
    "    end = dt.datetime(eyear, emonth, eday)\n",
    "\n",
    "    yfin.pdr_override()\n",
    "\n",
    "    df = web.get_data_yahoo(ticker, start, end) # we overided with yfinance\n",
    "    df.to_csv(\"Project\" + ticker + \".csv\") # check if this works, do you need to add file path?\n",
    "\n",
    "    return df"
   ]
  },
  {
   "cell_type": "code",
   "execution_count": 13,
   "id": "cc63eb4e-7367-4914-b0dd-7906b8c7240d",
   "metadata": {
    "tags": []
   },
   "outputs": [
    {
     "name": "stderr",
     "output_type": "stream",
     "text": [
      "[*********************100%%**********************]  1 of 1 completed\n"
     ]
    },
    {
     "data": {
      "text/html": [
       "<div>\n",
       "<style scoped>\n",
       "    .dataframe tbody tr th:only-of-type {\n",
       "        vertical-align: middle;\n",
       "    }\n",
       "\n",
       "    .dataframe tbody tr th {\n",
       "        vertical-align: top;\n",
       "    }\n",
       "\n",
       "    .dataframe thead th {\n",
       "        text-align: right;\n",
       "    }\n",
       "</style>\n",
       "<table border=\"1\" class=\"dataframe\">\n",
       "  <thead>\n",
       "    <tr style=\"text-align: right;\">\n",
       "      <th></th>\n",
       "      <th>Open</th>\n",
       "      <th>High</th>\n",
       "      <th>Low</th>\n",
       "      <th>Close</th>\n",
       "      <th>Adj Close</th>\n",
       "      <th>Volume</th>\n",
       "    </tr>\n",
       "    <tr>\n",
       "      <th>Date</th>\n",
       "      <th></th>\n",
       "      <th></th>\n",
       "      <th></th>\n",
       "      <th></th>\n",
       "      <th></th>\n",
       "      <th></th>\n",
       "    </tr>\n",
       "  </thead>\n",
       "  <tbody>\n",
       "    <tr>\n",
       "      <th>2022-03-02</th>\n",
       "      <td>237.559998</td>\n",
       "      <td>244.089996</td>\n",
       "      <td>234.149994</td>\n",
       "      <td>242.199997</td>\n",
       "      <td>241.896271</td>\n",
       "      <td>38964200</td>\n",
       "    </tr>\n",
       "    <tr>\n",
       "      <th>2022-03-03</th>\n",
       "      <td>242.619995</td>\n",
       "      <td>243.259995</td>\n",
       "      <td>234.690002</td>\n",
       "      <td>237.139999</td>\n",
       "      <td>236.842621</td>\n",
       "      <td>36509500</td>\n",
       "    </tr>\n",
       "    <tr>\n",
       "      <th>2022-03-04</th>\n",
       "      <td>233.839996</td>\n",
       "      <td>236.800003</td>\n",
       "      <td>224.820007</td>\n",
       "      <td>229.360001</td>\n",
       "      <td>229.072357</td>\n",
       "      <td>43141500</td>\n",
       "    </tr>\n",
       "    <tr>\n",
       "      <th>2022-03-07</th>\n",
       "      <td>228.169998</td>\n",
       "      <td>230.330002</td>\n",
       "      <td>213.300003</td>\n",
       "      <td>213.520004</td>\n",
       "      <td>213.252258</td>\n",
       "      <td>45082100</td>\n",
       "    </tr>\n",
       "    <tr>\n",
       "      <th>2022-03-08</th>\n",
       "      <td>213.089996</td>\n",
       "      <td>223.729996</td>\n",
       "      <td>206.500000</td>\n",
       "      <td>215.139999</td>\n",
       "      <td>214.870209</td>\n",
       "      <td>55746700</td>\n",
       "    </tr>\n",
       "    <tr>\n",
       "      <th>...</th>\n",
       "      <td>...</td>\n",
       "      <td>...</td>\n",
       "      <td>...</td>\n",
       "      <td>...</td>\n",
       "      <td>...</td>\n",
       "      <td>...</td>\n",
       "    </tr>\n",
       "    <tr>\n",
       "      <th>2023-11-27</th>\n",
       "      <td>478.000000</td>\n",
       "      <td>485.299988</td>\n",
       "      <td>476.519989</td>\n",
       "      <td>482.420013</td>\n",
       "      <td>482.354950</td>\n",
       "      <td>39566200</td>\n",
       "    </tr>\n",
       "    <tr>\n",
       "      <th>2023-11-28</th>\n",
       "      <td>482.359985</td>\n",
       "      <td>483.230011</td>\n",
       "      <td>474.730011</td>\n",
       "      <td>478.209991</td>\n",
       "      <td>478.145508</td>\n",
       "      <td>40149100</td>\n",
       "    </tr>\n",
       "    <tr>\n",
       "      <th>2023-11-29</th>\n",
       "      <td>483.790009</td>\n",
       "      <td>487.619995</td>\n",
       "      <td>478.600006</td>\n",
       "      <td>481.399994</td>\n",
       "      <td>481.335083</td>\n",
       "      <td>38200500</td>\n",
       "    </tr>\n",
       "    <tr>\n",
       "      <th>2023-11-30</th>\n",
       "      <td>480.239990</td>\n",
       "      <td>481.100006</td>\n",
       "      <td>464.220001</td>\n",
       "      <td>467.700012</td>\n",
       "      <td>467.636963</td>\n",
       "      <td>52624700</td>\n",
       "    </tr>\n",
       "    <tr>\n",
       "      <th>2023-12-01</th>\n",
       "      <td>465.250000</td>\n",
       "      <td>472.000000</td>\n",
       "      <td>461.869995</td>\n",
       "      <td>467.649994</td>\n",
       "      <td>467.586945</td>\n",
       "      <td>36880900</td>\n",
       "    </tr>\n",
       "  </tbody>\n",
       "</table>\n",
       "<p>442 rows × 6 columns</p>\n",
       "</div>"
      ],
      "text/plain": [
       "                  Open        High         Low       Close   Adj Close  \\\n",
       "Date                                                                     \n",
       "2022-03-02  237.559998  244.089996  234.149994  242.199997  241.896271   \n",
       "2022-03-03  242.619995  243.259995  234.690002  237.139999  236.842621   \n",
       "2022-03-04  233.839996  236.800003  224.820007  229.360001  229.072357   \n",
       "2022-03-07  228.169998  230.330002  213.300003  213.520004  213.252258   \n",
       "2022-03-08  213.089996  223.729996  206.500000  215.139999  214.870209   \n",
       "...                ...         ...         ...         ...         ...   \n",
       "2023-11-27  478.000000  485.299988  476.519989  482.420013  482.354950   \n",
       "2023-11-28  482.359985  483.230011  474.730011  478.209991  478.145508   \n",
       "2023-11-29  483.790009  487.619995  478.600006  481.399994  481.335083   \n",
       "2023-11-30  480.239990  481.100006  464.220001  467.700012  467.636963   \n",
       "2023-12-01  465.250000  472.000000  461.869995  467.649994  467.586945   \n",
       "\n",
       "              Volume  \n",
       "Date                  \n",
       "2022-03-02  38964200  \n",
       "2022-03-03  36509500  \n",
       "2022-03-04  43141500  \n",
       "2022-03-07  45082100  \n",
       "2022-03-08  55746700  \n",
       "...              ...  \n",
       "2023-11-27  39566200  \n",
       "2023-11-28  40149100  \n",
       "2023-11-29  38200500  \n",
       "2023-11-30  52624700  \n",
       "2023-12-01  36880900  \n",
       "\n",
       "[442 rows x 6 columns]"
      ]
     },
     "execution_count": 13,
     "metadata": {},
     "output_type": "execute_result"
    }
   ],
   "source": [
    "save_to_csv(\"NVDA\", 2022, 3, 2, 2023, 12, 2)"
   ]
  },
  {
   "cell_type": "code",
   "execution_count": 101,
   "id": "2f7a1d3d-6aba-44ae-b53e-de877273e5c6",
   "metadata": {},
   "outputs": [],
   "source": [
    "df = pd.read_csv(\"ProjectNVDA.csv\")"
   ]
  },
  {
   "cell_type": "code",
   "execution_count": 57,
   "id": "1d0a8c33-5f78-4b28-bc19-99b8c5534587",
   "metadata": {},
   "outputs": [
    {
     "data": {
      "text/html": [
       "<div>\n",
       "<style scoped>\n",
       "    .dataframe tbody tr th:only-of-type {\n",
       "        vertical-align: middle;\n",
       "    }\n",
       "\n",
       "    .dataframe tbody tr th {\n",
       "        vertical-align: top;\n",
       "    }\n",
       "\n",
       "    .dataframe thead th {\n",
       "        text-align: right;\n",
       "    }\n",
       "</style>\n",
       "<table border=\"1\" class=\"dataframe\">\n",
       "  <thead>\n",
       "    <tr style=\"text-align: right;\">\n",
       "      <th></th>\n",
       "      <th>Date</th>\n",
       "      <th>Open</th>\n",
       "      <th>High</th>\n",
       "      <th>Low</th>\n",
       "      <th>Close</th>\n",
       "      <th>Adj Close</th>\n",
       "      <th>Volume</th>\n",
       "    </tr>\n",
       "  </thead>\n",
       "  <tbody>\n",
       "    <tr>\n",
       "      <th>0</th>\n",
       "      <td>2022-03-02</td>\n",
       "      <td>237.559998</td>\n",
       "      <td>244.089996</td>\n",
       "      <td>234.149994</td>\n",
       "      <td>242.199997</td>\n",
       "      <td>241.896271</td>\n",
       "      <td>38964200</td>\n",
       "    </tr>\n",
       "    <tr>\n",
       "      <th>1</th>\n",
       "      <td>2022-03-03</td>\n",
       "      <td>242.619995</td>\n",
       "      <td>243.259995</td>\n",
       "      <td>234.690002</td>\n",
       "      <td>237.139999</td>\n",
       "      <td>236.842621</td>\n",
       "      <td>36509500</td>\n",
       "    </tr>\n",
       "    <tr>\n",
       "      <th>2</th>\n",
       "      <td>2022-03-04</td>\n",
       "      <td>233.839996</td>\n",
       "      <td>236.800003</td>\n",
       "      <td>224.820007</td>\n",
       "      <td>229.360001</td>\n",
       "      <td>229.072357</td>\n",
       "      <td>43141500</td>\n",
       "    </tr>\n",
       "    <tr>\n",
       "      <th>3</th>\n",
       "      <td>2022-03-07</td>\n",
       "      <td>228.169998</td>\n",
       "      <td>230.330002</td>\n",
       "      <td>213.300003</td>\n",
       "      <td>213.520004</td>\n",
       "      <td>213.252258</td>\n",
       "      <td>45082100</td>\n",
       "    </tr>\n",
       "    <tr>\n",
       "      <th>4</th>\n",
       "      <td>2022-03-08</td>\n",
       "      <td>213.089996</td>\n",
       "      <td>223.729996</td>\n",
       "      <td>206.500000</td>\n",
       "      <td>215.139999</td>\n",
       "      <td>214.870209</td>\n",
       "      <td>55746700</td>\n",
       "    </tr>\n",
       "  </tbody>\n",
       "</table>\n",
       "</div>"
      ],
      "text/plain": [
       "         Date        Open        High         Low       Close   Adj Close  \\\n",
       "0  2022-03-02  237.559998  244.089996  234.149994  242.199997  241.896271   \n",
       "1  2022-03-03  242.619995  243.259995  234.690002  237.139999  236.842621   \n",
       "2  2022-03-04  233.839996  236.800003  224.820007  229.360001  229.072357   \n",
       "3  2022-03-07  228.169998  230.330002  213.300003  213.520004  213.252258   \n",
       "4  2022-03-08  213.089996  223.729996  206.500000  215.139999  214.870209   \n",
       "\n",
       "     Volume  \n",
       "0  38964200  \n",
       "1  36509500  \n",
       "2  43141500  \n",
       "3  45082100  \n",
       "4  55746700  "
      ]
     },
     "execution_count": 57,
     "metadata": {},
     "output_type": "execute_result"
    }
   ],
   "source": [
    "df.head()"
   ]
  },
  {
   "cell_type": "code",
   "execution_count": 58,
   "id": "b4c73d4c-934a-4964-aa62-b9e1a33e3159",
   "metadata": {
    "tags": []
   },
   "outputs": [
    {
     "data": {
      "text/html": [
       "<div>\n",
       "<style scoped>\n",
       "    .dataframe tbody tr th:only-of-type {\n",
       "        vertical-align: middle;\n",
       "    }\n",
       "\n",
       "    .dataframe tbody tr th {\n",
       "        vertical-align: top;\n",
       "    }\n",
       "\n",
       "    .dataframe thead th {\n",
       "        text-align: right;\n",
       "    }\n",
       "</style>\n",
       "<table border=\"1\" class=\"dataframe\">\n",
       "  <thead>\n",
       "    <tr style=\"text-align: right;\">\n",
       "      <th></th>\n",
       "      <th>Date</th>\n",
       "      <th>Close</th>\n",
       "    </tr>\n",
       "  </thead>\n",
       "  <tbody>\n",
       "    <tr>\n",
       "      <th>0</th>\n",
       "      <td>2022-03-02</td>\n",
       "      <td>242.199997</td>\n",
       "    </tr>\n",
       "    <tr>\n",
       "      <th>1</th>\n",
       "      <td>2022-03-03</td>\n",
       "      <td>237.139999</td>\n",
       "    </tr>\n",
       "    <tr>\n",
       "      <th>2</th>\n",
       "      <td>2022-03-04</td>\n",
       "      <td>229.360001</td>\n",
       "    </tr>\n",
       "    <tr>\n",
       "      <th>3</th>\n",
       "      <td>2022-03-07</td>\n",
       "      <td>213.520004</td>\n",
       "    </tr>\n",
       "    <tr>\n",
       "      <th>4</th>\n",
       "      <td>2022-03-08</td>\n",
       "      <td>215.139999</td>\n",
       "    </tr>\n",
       "    <tr>\n",
       "      <th>...</th>\n",
       "      <td>...</td>\n",
       "      <td>...</td>\n",
       "    </tr>\n",
       "    <tr>\n",
       "      <th>437</th>\n",
       "      <td>2023-11-27</td>\n",
       "      <td>482.420013</td>\n",
       "    </tr>\n",
       "    <tr>\n",
       "      <th>438</th>\n",
       "      <td>2023-11-28</td>\n",
       "      <td>478.209991</td>\n",
       "    </tr>\n",
       "    <tr>\n",
       "      <th>439</th>\n",
       "      <td>2023-11-29</td>\n",
       "      <td>481.399994</td>\n",
       "    </tr>\n",
       "    <tr>\n",
       "      <th>440</th>\n",
       "      <td>2023-11-30</td>\n",
       "      <td>467.700012</td>\n",
       "    </tr>\n",
       "    <tr>\n",
       "      <th>441</th>\n",
       "      <td>2023-12-01</td>\n",
       "      <td>467.649994</td>\n",
       "    </tr>\n",
       "  </tbody>\n",
       "</table>\n",
       "<p>442 rows × 2 columns</p>\n",
       "</div>"
      ],
      "text/plain": [
       "           Date       Close\n",
       "0    2022-03-02  242.199997\n",
       "1    2022-03-03  237.139999\n",
       "2    2022-03-04  229.360001\n",
       "3    2022-03-07  213.520004\n",
       "4    2022-03-08  215.139999\n",
       "..          ...         ...\n",
       "437  2023-11-27  482.420013\n",
       "438  2023-11-28  478.209991\n",
       "439  2023-11-29  481.399994\n",
       "440  2023-11-30  467.700012\n",
       "441  2023-12-01  467.649994\n",
       "\n",
       "[442 rows x 2 columns]"
      ]
     },
     "execution_count": 58,
     "metadata": {},
     "output_type": "execute_result"
    }
   ],
   "source": [
    "df[[\"Date\", \"Close\"]]"
   ]
  },
  {
   "cell_type": "code",
   "execution_count": 59,
   "id": "95533412-355f-482f-a857-ff7186359f62",
   "metadata": {
    "tags": []
   },
   "outputs": [],
   "source": [
    "import matplotlib.pyplot as plt"
   ]
  },
  {
   "cell_type": "code",
   "execution_count": 88,
   "id": "bdb3aa33-1073-411d-9b7d-f9e776c43a71",
   "metadata": {
    "tags": []
   },
   "outputs": [],
   "source": [
    "import csv\n",
    "from datetime import datetime\n",
    "\n",
    "timestamp = []\n",
    "price = []\n",
    "with open(\"ProjectNVDA.csv\", 'r') as file:\n",
    "    df = csv.reader(file)\n",
    "    next(df)\n",
    "    for line in df:\n",
    "        timestamp.append(datetime.strptime(line[0], \"%Y-%m-%d\"))\n",
    "        price.append(float(line[1]))"
   ]
  },
  {
   "cell_type": "code",
   "execution_count": 74,
   "id": "50f11e68-a085-4281-8787-1a109d2c6dda",
   "metadata": {
    "tags": []
   },
   "outputs": [
    {
     "data": {
      "text/plain": [
       "[<matplotlib.lines.Line2D at 0x11bdf7350>]"
      ]
     },
     "execution_count": 74,
     "metadata": {},
     "output_type": "execute_result"
    },
    {
     "data": {
      "image/png": "[encoded data removed]",
      "text/plain": [
       "<Figure size 640x480 with 1 Axes>"
      ]
     },
     "metadata": {},
     "output_type": "display_data"
    }
   ],
   "source": [
    "plt.plot(timestamp, price)"
   ]
  },
  {
   "cell_type": "markdown",
   "id": "3b1ce372-70d5-45a7-8f05-3273f65bdb81",
   "metadata": {},
   "source": [
    "Use RMSE, and MAPE"
   ]
  },
  {
   "cell_type": "code",
   "execution_count": 84,
   "id": "55e03b2a-3ce2-48d2-a6fc-f1a1d2be8033",
   "metadata": {
    "tags": []
   },
   "outputs": [
    {
     "name": "stdout",
     "output_type": "stream",
     "text": [
      "[238.01, 234.88, 225.03]\n"
     ]
    }
   ],
   "source": [
    "test_window = np.array(price[0:5])\n",
    "window_size = 3\n",
    "\n",
    "i = 0\n",
    "\n",
    "moving_averages = []\n",
    "\n",
    "while i < len(test_window) - window_size + 1:\n",
    "    window_average = round(np.sum(test_window[i:i+window_size]) / window_size, 2)\n",
    "    \n",
    "    moving_averages.append(window_average)\n",
    "    \n",
    "    i+=1\n",
    "    \n",
    "\n",
    "print(moving_averages)\n",
    "    \n",
    "    \n",
    "    "
   ]
  },
  {
   "cell_type": "code",
   "execution_count": 81,
   "id": "0f70eb5b-f381-41b3-94dd-f08a343887d8",
   "metadata": {
    "tags": []
   },
   "outputs": [
    {
     "data": {
      "text/plain": [
       "array([237.55999756, 242.61999512, 233.83999634, 228.16999817,\n",
       "       213.08999634])"
      ]
     },
     "execution_count": 81,
     "metadata": {},
     "output_type": "execute_result"
    }
   ],
   "source": [
    "test_window"
   ]
  },
  {
   "cell_type": "code",
   "execution_count": 89,
   "id": "4b1d261b-93c1-4da1-a468-10f5215f8e1f",
   "metadata": {
    "tags": []
   },
   "outputs": [
    {
     "data": {
      "text/plain": [
       "[datetime.datetime(2022, 3, 2, 0, 0),\n",
       " datetime.datetime(2022, 3, 3, 0, 0),\n",
       " datetime.datetime(2022, 3, 4, 0, 0),\n",
       " datetime.datetime(2022, 3, 7, 0, 0),\n",
       " datetime.datetime(2022, 3, 8, 0, 0)]"
      ]
     },
     "execution_count": 89,
     "metadata": {},
     "output_type": "execute_result"
    }
   ],
   "source": [
    "timestamp[0:5]"
   ]
  },
  {
   "cell_type": "code",
   "execution_count": null,
   "id": "7c435994-9ae4-4e8a-8698-1a0b6ebd165d",
   "metadata": {},
   "outputs": [],
   "source": []
  },
  {
   "cell_type": "code",
   "execution_count": 90,
   "id": "41b44392-748a-47b0-bb61-e12592c6232c",
   "metadata": {
    "tags": []
   },
   "outputs": [
    {
     "data": {
      "text/plain": [
       "[<matplotlib.lines.Line2D at 0x158af03d0>]"
      ]
     },
     "execution_count": 90,
     "metadata": {},
     "output_type": "execute_result"
    },
    {
     "data": {
      "image/png": "[encoded data removed]",
      "text/plain": [
       "<Figure size 640x480 with 1 Axes>"
      ]
     },
     "metadata": {},
     "output_type": "display_data"
    }
   ],
   "source": [
    "plt.plot(timestamp[0:5], test_window)"
   ]
  },
  {
   "cell_type": "code",
   "execution_count": 92,
   "id": "8d089367-6a72-45e7-ab38-78fe68a84b80",
   "metadata": {
    "tags": []
   },
   "outputs": [],
   "source": [
    "from sklearn.model_selection import train_test_split"
   ]
  },
  {
   "cell_type": "code",
   "execution_count": 93,
   "id": "ea6396f7-fe69-4d03-95eb-328d004f7b77",
   "metadata": {
    "tags": []
   },
   "outputs": [],
   "source": [
    "X_train, X_test, y_train, y_test = train_test_split(timestamp[0:5], test_window)"
   ]
  },
  {
   "cell_type": "code",
   "execution_count": 103,
   "id": "9adb34d1-c7c7-4040-9833-31ea6f171a9a",
   "metadata": {
    "tags": []
   },
   "outputs": [
    {
     "data": {
      "text/html": [
       "<div>\n",
       "<style scoped>\n",
       "    .dataframe tbody tr th:only-of-type {\n",
       "        vertical-align: middle;\n",
       "    }\n",
       "\n",
       "    .dataframe tbody tr th {\n",
       "        vertical-align: top;\n",
       "    }\n",
       "\n",
       "    .dataframe thead th {\n",
       "        text-align: right;\n",
       "    }\n",
       "</style>\n",
       "<table border=\"1\" class=\"dataframe\">\n",
       "  <thead>\n",
       "    <tr style=\"text-align: right;\">\n",
       "      <th></th>\n",
       "      <th>Close</th>\n",
       "      <th>Volume</th>\n",
       "    </tr>\n",
       "  </thead>\n",
       "  <tbody>\n",
       "    <tr>\n",
       "      <th>Close</th>\n",
       "      <td>1.00000</td>\n",
       "      <td>-0.14454</td>\n",
       "    </tr>\n",
       "    <tr>\n",
       "      <th>Volume</th>\n",
       "      <td>-0.14454</td>\n",
       "      <td>1.00000</td>\n",
       "    </tr>\n",
       "  </tbody>\n",
       "</table>\n",
       "</div>"
      ],
      "text/plain": [
       "          Close   Volume\n",
       "Close   1.00000 -0.14454\n",
       "Volume -0.14454  1.00000"
      ]
     },
     "execution_count": 103,
     "metadata": {},
     "output_type": "execute_result"
    }
   ],
   "source": [
    "df[[\"Close\", \"Volume\"]].corr()"
   ]
  },
  {
   "cell_type": "code",
   "execution_count": 105,
   "id": "d9e76e2d-038b-46b0-8f54-89750564b8fa",
   "metadata": {
    "tags": []
   },
   "outputs": [
    {
     "data": {
      "text/html": [
       "<div>\n",
       "<style scoped>\n",
       "    .dataframe tbody tr th:only-of-type {\n",
       "        vertical-align: middle;\n",
       "    }\n",
       "\n",
       "    .dataframe tbody tr th {\n",
       "        vertical-align: top;\n",
       "    }\n",
       "\n",
       "    .dataframe thead th {\n",
       "        text-align: right;\n",
       "    }\n",
       "</style>\n",
       "<table border=\"1\" class=\"dataframe\">\n",
       "  <thead>\n",
       "    <tr style=\"text-align: right;\">\n",
       "      <th></th>\n",
       "      <th>Open</th>\n",
       "      <th>High</th>\n",
       "      <th>Low</th>\n",
       "      <th>Close</th>\n",
       "      <th>Adj Close</th>\n",
       "      <th>Volume</th>\n",
       "    </tr>\n",
       "  </thead>\n",
       "  <tbody>\n",
       "    <tr>\n",
       "      <th>Open</th>\n",
       "      <td>1.000000</td>\n",
       "      <td>0.999413</td>\n",
       "      <td>0.999351</td>\n",
       "      <td>0.998325</td>\n",
       "      <td>0.998324</td>\n",
       "      <td>-0.142272</td>\n",
       "    </tr>\n",
       "    <tr>\n",
       "      <th>High</th>\n",
       "      <td>0.999413</td>\n",
       "      <td>1.000000</td>\n",
       "      <td>0.999379</td>\n",
       "      <td>0.999307</td>\n",
       "      <td>0.999304</td>\n",
       "      <td>-0.132662</td>\n",
       "    </tr>\n",
       "    <tr>\n",
       "      <th>Low</th>\n",
       "      <td>0.999351</td>\n",
       "      <td>0.999379</td>\n",
       "      <td>1.000000</td>\n",
       "      <td>0.999316</td>\n",
       "      <td>0.999318</td>\n",
       "      <td>-0.154896</td>\n",
       "    </tr>\n",
       "    <tr>\n",
       "      <th>Close</th>\n",
       "      <td>0.998325</td>\n",
       "      <td>0.999307</td>\n",
       "      <td>0.999316</td>\n",
       "      <td>1.000000</td>\n",
       "      <td>1.000000</td>\n",
       "      <td>-0.144540</td>\n",
       "    </tr>\n",
       "    <tr>\n",
       "      <th>Adj Close</th>\n",
       "      <td>0.998324</td>\n",
       "      <td>0.999304</td>\n",
       "      <td>0.999318</td>\n",
       "      <td>1.000000</td>\n",
       "      <td>1.000000</td>\n",
       "      <td>-0.144623</td>\n",
       "    </tr>\n",
       "    <tr>\n",
       "      <th>Volume</th>\n",
       "      <td>-0.142272</td>\n",
       "      <td>-0.132662</td>\n",
       "      <td>-0.154896</td>\n",
       "      <td>-0.144540</td>\n",
       "      <td>-0.144623</td>\n",
       "      <td>1.000000</td>\n",
       "    </tr>\n",
       "  </tbody>\n",
       "</table>\n",
       "</div>"
      ],
      "text/plain": [
       "               Open      High       Low     Close  Adj Close    Volume\n",
       "Open       1.000000  0.999413  0.999351  0.998325   0.998324 -0.142272\n",
       "High       0.999413  1.000000  0.999379  0.999307   0.999304 -0.132662\n",
       "Low        0.999351  0.999379  1.000000  0.999316   0.999318 -0.154896\n",
       "Close      0.998325  0.999307  0.999316  1.000000   1.000000 -0.144540\n",
       "Adj Close  0.998324  0.999304  0.999318  1.000000   1.000000 -0.144623\n",
       "Volume    -0.142272 -0.132662 -0.154896 -0.144540  -0.144623  1.000000"
      ]
     },
     "execution_count": 105,
     "metadata": {},
     "output_type": "execute_result"
    }
   ],
   "source": [
    "df.drop(\"Date\", axis = 1).corr()"
   ]
  },
  {
   "cell_type": "code",
   "execution_count": 106,
   "id": "b29d17a4-33f9-4c22-b72e-b21e0322717b",
   "metadata": {
    "tags": []
   },
   "outputs": [
    {
     "data": {
      "text/html": [
       "<div>\n",
       "<style scoped>\n",
       "    .dataframe tbody tr th:only-of-type {\n",
       "        vertical-align: middle;\n",
       "    }\n",
       "\n",
       "    .dataframe tbody tr th {\n",
       "        vertical-align: top;\n",
       "    }\n",
       "\n",
       "    .dataframe thead th {\n",
       "        text-align: right;\n",
       "    }\n",
       "</style>\n",
       "<table border=\"1\" class=\"dataframe\">\n",
       "  <thead>\n",
       "    <tr style=\"text-align: right;\">\n",
       "      <th></th>\n",
       "      <th>Open</th>\n",
       "      <th>Close</th>\n",
       "    </tr>\n",
       "  </thead>\n",
       "  <tbody>\n",
       "    <tr>\n",
       "      <th>0</th>\n",
       "      <td>237.559998</td>\n",
       "      <td>242.199997</td>\n",
       "    </tr>\n",
       "    <tr>\n",
       "      <th>1</th>\n",
       "      <td>242.619995</td>\n",
       "      <td>237.139999</td>\n",
       "    </tr>\n",
       "    <tr>\n",
       "      <th>2</th>\n",
       "      <td>233.839996</td>\n",
       "      <td>229.360001</td>\n",
       "    </tr>\n",
       "    <tr>\n",
       "      <th>3</th>\n",
       "      <td>228.169998</td>\n",
       "      <td>213.520004</td>\n",
       "    </tr>\n",
       "    <tr>\n",
       "      <th>4</th>\n",
       "      <td>213.089996</td>\n",
       "      <td>215.139999</td>\n",
       "    </tr>\n",
       "    <tr>\n",
       "      <th>...</th>\n",
       "      <td>...</td>\n",
       "      <td>...</td>\n",
       "    </tr>\n",
       "    <tr>\n",
       "      <th>437</th>\n",
       "      <td>478.000000</td>\n",
       "      <td>482.420013</td>\n",
       "    </tr>\n",
       "    <tr>\n",
       "      <th>438</th>\n",
       "      <td>482.359985</td>\n",
       "      <td>478.209991</td>\n",
       "    </tr>\n",
       "    <tr>\n",
       "      <th>439</th>\n",
       "      <td>483.790009</td>\n",
       "      <td>481.399994</td>\n",
       "    </tr>\n",
       "    <tr>\n",
       "      <th>440</th>\n",
       "      <td>480.239990</td>\n",
       "      <td>467.700012</td>\n",
       "    </tr>\n",
       "    <tr>\n",
       "      <th>441</th>\n",
       "      <td>465.250000</td>\n",
       "      <td>467.649994</td>\n",
       "    </tr>\n",
       "  </tbody>\n",
       "</table>\n",
       "<p>442 rows × 2 columns</p>\n",
       "</div>"
      ],
      "text/plain": [
       "           Open       Close\n",
       "0    237.559998  242.199997\n",
       "1    242.619995  237.139999\n",
       "2    233.839996  229.360001\n",
       "3    228.169998  213.520004\n",
       "4    213.089996  215.139999\n",
       "..          ...         ...\n",
       "437  478.000000  482.420013\n",
       "438  482.359985  478.209991\n",
       "439  483.790009  481.399994\n",
       "440  480.239990  467.700012\n",
       "441  465.250000  467.649994\n",
       "\n",
       "[442 rows x 2 columns]"
      ]
     },
     "execution_count": 106,
     "metadata": {},
     "output_type": "execute_result"
    }
   ],
   "source": [
    "df[[\"Open\", \"Close\"]]"
   ]
  },
  {
   "cell_type": "code",
   "execution_count": 108,
   "id": "f3ba371e-8b7e-483e-a283-e4a0e19f3902",
   "metadata": {
    "tags": []
   },
   "outputs": [
    {
     "data": {
      "text/plain": [
       "<matplotlib.collections.PathCollection at 0x15e415010>"
      ]
     },
     "execution_count": 108,
     "metadata": {},
     "output_type": "execute_result"
    },
    {
     "data": {
      "image/png": "[encoded data removed]",
      "text/plain": [
       "<Figure size 640x480 with 1 Axes>"
      ]
     },
     "metadata": {},
     "output_type": "display_data"
    }
   ],
   "source": [
    "X = df[[\"Open\"]]\n",
    "y = df[[\"Close\"]]\n",
    "\n",
    "plt.scatter(X,y)"
   ]
  },
  {
   "cell_type": "code",
   "execution_count": 110,
   "id": "dd90fad9-03b5-4ab5-8e27-f6cf0d358d68",
   "metadata": {
    "tags": []
   },
   "outputs": [],
   "source": [
    "X = df[[\"High\"]]\n",
    "y = df[[\"Close\"]]"
   ]
  },
  {
   "cell_type": "markdown",
   "id": "744b36f9-76ef-48d2-bf7a-0292de6c5b78",
   "metadata": {},
   "source": [
    "Seasonal Data into stock market data, and other things that affect the stock market"
   ]
  },
  {
   "cell_type": "markdown",
   "id": "da39dcd2-0824-42c7-b20b-357d10d2af0b",
   "metadata": {},
   "source": [
    "https://medium.com/aimonks/improving-stock-price-forecasting-by-feature-engineering-8a5d0be2be96"
   ]
  },
  {
   "cell_type": "code",
   "execution_count": null,
   "id": "1252a250-8b23-4a11-9c93-e0782d1554cb",
   "metadata": {},
   "outputs": [],
   "source": []
  }
 ],
 "metadata": {
  "kernelspec": {
   "display_name": "Python 3 (ipykernel)",
   "language": "python",
   "name": "python3"
  },
  "language_info": {
   "codemirror_mode": {
    "name": "ipython",
    "version": 3
   },
   "file_extension": ".py",
   "mimetype": "text/x-python",
   "name": "python",
   "nbconvert_exporter": "python",
   "pygments_lexer": "ipython3",
   "version": "3.11.0"
  }
 },
 "nbformat": 4,
 "nbformat_minor": 5
}
